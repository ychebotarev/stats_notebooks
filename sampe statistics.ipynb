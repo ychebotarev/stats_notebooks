{
 "cells": [
  {
   "cell_type": "code",
   "execution_count": 46,
   "metadata": {
    "collapsed": false
   },
   "outputs": [
    {
     "name": "stdout",
     "output_type": "stream",
     "text": [
      "68.27%\n",
      "95.45%\n",
      "99.73%\n",
      "95.00%\n",
      "99.01%\n"
     ]
    }
   ],
   "source": [
    "from scipy.stats import norm\n",
    "import numpy as np\n",
    "import math as math\n",
    "# Sat is normally distributes with mran 1500 and std=300\n",
    "mean = 1500\n",
    "std=300\n",
    "\n",
    "#Edward earned a 1400 on his STA. What is his percentile? \n",
    "norm.cdf(x=1400,loc=mean,scale=std)\n",
    "#Eric SAT score at 40th percentile. What is his score?\n",
    "norm.ppf(q=0.37,loc=mean,scale=std)\n",
    "\n",
    "#what is 68-95-99.7 rule\n",
    "sigmas = 1\n",
    "print(\"{0:.2%}\".format(norm.cdf(x=mean+sigmas*std,loc=mean,scale=std) - norm.cdf(x=mean-sigmas*std,loc=mean,scale=std)))\n",
    "sigmas = 2\n",
    "print(\"{0:.2%}\".format(norm.cdf(x=mean+sigmas*std,loc=mean,scale=std) - norm.cdf(x=mean-sigmas*std,loc=mean,scale=std)))\n",
    "sigmas = 3\n",
    "print(\"{0:.2%}\".format(norm.cdf(x=mean+sigmas*std,loc=mean,scale=std) - norm.cdf(x=mean-sigmas*std,loc=mean,scale=std)))\n",
    "\n",
    "#what is the real sigma for 95%?\n",
    "sigmas = 1.96\n",
    "print(\"{0:.2%}\".format(norm.cdf(x=mean+sigmas*std,loc=mean,scale=std) - norm.cdf(x=mean-sigmas*std,loc=mean,scale=std)))\n",
    "#for 99%?\n",
    "sigmas = 2.58\n",
    "print(\"{0:.2%}\".format(norm.cdf(x=mean+sigmas*std,loc=mean,scale=std) - norm.cdf(x=mean-sigmas*std,loc=mean,scale=std)))\n",
    "\n"
   ]
  },
  {
   "cell_type": "code",
   "execution_count": 26,
   "metadata": {
    "collapsed": false
   },
   "outputs": [
    {
     "name": "stdout",
     "output_type": "stream",
     "text": [
      "68.0842231047 67.08203932499369\n"
     ]
    }
   ],
   "source": [
    "#Standard erros of sample mean - std/sqrt(sample_size)\n",
    "mean = 1500\n",
    "std=300\n",
    "\n",
    "sample_size = 20\n",
    "iterations=1000\n",
    "\n",
    "standard_error_1 = np.std([np.mean(norm.rvs(mean,std,size=sample_size)) for x in range(1,iterations)])\n",
    "standard_error_2 = std/math.sqrt(sample_size)\n",
    "print(standard_error_1,standard_error_2)\n"
   ]
  },
  {
   "cell_type": "code",
   "execution_count": 49,
   "metadata": {
    "collapsed": false
   },
   "outputs": [
    {
     "name": "stdout",
     "output_type": "stream",
     "text": [
      "99.00%\n"
     ]
    }
   ],
   "source": [
    "#confidence interval\n",
    "\n",
    "mean = 1500\n",
    "std=300\n",
    "sample_se = std/math.sqrt(sample_size)\n",
    "\n",
    "sample_size = 20\n",
    "iterations=1000\n",
    "\n",
    "margin_of_error_95=1.96\n",
    "margin_of_error_99=2.59\n",
    "margin_of_error=margin_of_error_99\n",
    "\n",
    "inside_fonf_interval = 0\n",
    "\n",
    "for x in range(1,iterations):\n",
    "    sample=norm.rvs(mean,std,size=sample_size)\n",
    "    sample_mean = np.mean(sample)\n",
    "    sample_std = np.std(sample)\n",
    "    conf_interval=(sample_mean-margin_of_error*sample_se,sample_mean+margin_of_error*sample_se)\n",
    "    if conf_interval[0]<=mean and conf_interval[1]>=mean:\n",
    "        inside_fonf_interval+=1\n",
    "print(\"{0:.2%}\".format(inside_fonf_interval/iterations)    )"
   ]
  },
  {
   "cell_type": "code",
   "execution_count": null,
   "metadata": {
    "collapsed": true
   },
   "outputs": [],
   "source": []
  }
 ],
 "metadata": {
  "kernelspec": {
   "display_name": "Python 3",
   "language": "python",
   "name": "python3"
  },
  "language_info": {
   "codemirror_mode": {
    "name": "ipython",
    "version": 3
   },
   "file_extension": ".py",
   "mimetype": "text/x-python",
   "name": "python",
   "nbconvert_exporter": "python",
   "pygments_lexer": "ipython3",
   "version": "3.4.3"
  }
 },
 "nbformat": 4,
 "nbformat_minor": 0
}
