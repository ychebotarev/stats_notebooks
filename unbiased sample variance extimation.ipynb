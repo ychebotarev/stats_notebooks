{
 "cells": [
  {
   "cell_type": "code",
   "execution_count": 124,
   "metadata": {
    "collapsed": false
   },
   "outputs": [
    {
     "name": "stdout",
     "output_type": "stream",
     "text": [
      "9.91998759509\n",
      "9.9853705027\n"
     ]
    }
   ],
   "source": [
    "from scipy.stats import norm\n",
    "import numpy as np\n",
    "import math\n",
    "\n",
    "#1. Get 100 samples from normal distribution with mean=100 and std = 10\n",
    "#2. Calculate std for those samples\n",
    "#3. Repeat this 10000 times and calculate mean\n",
    "\n",
    "print(np.mean([np.std(norm.rvs(100,10,size=100),ddof=0) for x in range(1,10000)]))\n",
    "print(np.mean([np.std(norm.rvs(100,10,size=100),ddof=1) for x in range(1,10000)]))"
   ]
  },
  {
   "cell_type": "code",
   "execution_count": 131,
   "metadata": {
    "collapsed": false
   },
   "outputs": [
    {
     "name": "stdout",
     "output_type": "stream",
     "text": [
      "Biased wins 46.44%, unbiased wins46.44%\n"
     ]
    }
   ],
   "source": [
    "#so it look like in most of cases unbiased extimation is \"close\" to real std of population\n",
    "#one more round. Naive upproad\n",
    "\n",
    "#1. Get 100 samples from normal distribution with mean=100 and std = 10\n",
    "#2. Calculate biased std\n",
    "#3. Calculate unbiased std\n",
    "#4. Test them\n",
    "#5. See how often each one is close to real std\n",
    "\n",
    "samples = 100\n",
    "tests = 10000\n",
    "\n",
    "real_mean = 100\n",
    "real_std=10\n",
    "\n",
    "biased_wins = 0\n",
    "unbiased_wins = 0\n",
    "\n",
    "for i in range(1,tests):\n",
    "    s = norm.rvs(real_mean,real_std,size=samples)\n",
    "    biased_std = np.std(s,ddof=0)\n",
    "    unbiased_std = np.std(s,ddof=1)\n",
    "    if (math.fabs(real_std - biased_std) > math.fabs(real_std - unbiased_std)):\n",
    "        unbiased_wins = unbiased_wins + 1\n",
    "    else:\n",
    "        biased_wins = biased_wins +1\n",
    "print(\"Biased wins {0:.2%}, unbiased wins{0:.2%}\".format(biased_wins/tests, unbiased_wins/tests))\n",
    "    \n",
    "#Draw....\n",
    "#why it happens? "
   ]
  },
  {
   "cell_type": "code",
   "execution_count": 142,
   "metadata": {
    "collapsed": false
   },
   "outputs": [],
   "source": [
    "#why it happens?\n",
    "\n",
    "import matplotlib.pyplot as plt\n",
    "range = np.arange(50, 150, 1)\n",
    "plt.plot(range, norm.pdf(range,95,20))\n",
    "plt.plot(range, norm.pdf(range,98,4))\n",
    "plt.vlines(95,0,0.1,color='b')\n",
    "plt.vlines(98,0,0.1,color='g')\n",
    "plt.vlines(100,0,0.1,color='r')\n",
    "plt.show()"
   ]
  }
 ],
 "metadata": {
  "kernelspec": {
   "display_name": "Python 3",
   "language": "python",
   "name": "python3"
  },
  "language_info": {
   "codemirror_mode": {
    "name": "ipython",
    "version": 3
   },
   "file_extension": ".py",
   "mimetype": "text/x-python",
   "name": "python",
   "nbconvert_exporter": "python",
   "pygments_lexer": "ipython3",
   "version": "3.4.3"
  }
 },
 "nbformat": 4,
 "nbformat_minor": 0
}
