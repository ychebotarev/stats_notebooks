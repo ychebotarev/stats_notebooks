{
 "cells": [
  {
   "cell_type": "code",
   "execution_count": 224,
   "metadata": {
    "collapsed": false
   },
   "outputs": [],
   "source": [
    "import pandas as pd\n",
    "import numpy as np\n",
    "import scipy as sp\n",
    "import functools\n",
    "import random\n",
    "\n",
    "was_tail = 1#'T'\n",
    "was_head = 0#'H'\n",
    "\n",
    "def generate_coin_plip(p_tail):\n",
    "    p=random.random()\n",
    "    return was_tail if p<p_tail else was_head\n",
    "\n",
    "def generage_outcome(p,coinflips):\n",
    "    return [generate_coin_plip(p) for i in range(0,coinflips)]\n"
   ]
  },
  {
   "cell_type": "code",
   "execution_count": 239,
   "metadata": {
    "collapsed": false
   },
   "outputs": [
    {
     "name": "stdout",
     "output_type": "stream",
     "text": [
      "mean:0.49, variance:0.25\n",
      "mean:0.51, variance:0.25\n"
     ]
    }
   ],
   "source": [
    "#1 Bernoulli distribution\n",
    "p=0.5\n",
    "outcome_range=1000\n",
    "\n",
    "outcome1 = generage_outcome(p, outcome_range)\n",
    "bernoulli_test = sp.stats.bernoulli.rvs(p,size=outcome_range)\n",
    "\n",
    "print(\"mean:{:.2}, variance:{:.2}\".format(np.mean(outcome1), np.var(outcome1)))\n",
    "print(\"mean:{:.2}, variance:{:.2}\".format(np.mean(bernoulli_test), np.var(bernoulli_test)))"
   ]
  },
  {
   "cell_type": "code",
   "execution_count": 274,
   "metadata": {
    "collapsed": false
   },
   "outputs": [
    {
     "name": "stdout",
     "output_type": "stream",
     "text": [
      "mean:50.0, variance:24.9\n",
      "mean:49.9, variance:25.2\n",
      "38.02%\n",
      "38.22%\n"
     ]
    }
   ],
   "source": [
    "# Binominal distribution\n",
    "def count_outcomes_in_single_event(outcome):\n",
    "    return (outcome.count(was_tail),outcome.count(was_head))\n",
    "\n",
    "number_of_outcomes=10000\n",
    "outcome_range=100\n",
    "p=0.5\n",
    "outcomes = [generage_outcome(p,outcome_range) for i in range(0,number_of_outcomes)]\n",
    "m = map(lambda x: count_outcomes_in_single_event(x), outcomes)\n",
    "d = pd.DataFrame(list(m), columns=['tails','heads'])\n",
    "\n",
    "binom_test = sp.stats.binom.rvs(n=outcome_range, p=p,size=number_of_outcomes)\n",
    "print(\"mean:{:.3}, variance:{:.3}\".format(np.mean(d.tails), np.var(d.tails)))\n",
    "print(\"mean:{:.3}, variance:{:.3}\".format(np.mean(binom_test), np.var(binom_test)))\n",
    "\n",
    "#CDF test.\n",
    "#what is the probability of having \"num_of_tails_up_to\" or less tails?\n",
    "num_of_tails_up_to = 48\n",
    "print(\"{:.2%}\".format(sum([d[d.tails == i].shape[0]/d.shape[0] for i in range(0,num_of_tails_up_to+1)])))\n",
    "print(\"{:.2%}\".format(sp.stats.binom.cdf(num_of_tails_up_to,n=outcome_range, p=p)))"
   ]
  },
  {
   "cell_type": "code",
   "execution_count": 285,
   "metadata": {
    "collapsed": false
   },
   "outputs": [
    {
     "name": "stdout",
     "output_type": "stream",
     "text": [
      "\"coin distribution\" - mean:1e+03, variance:3.24e+02\n",
      "normal distribution - mean:1e+03, variance:3.25e+02\n"
     ]
    }
   ],
   "source": [
    "#Normal distribution.\n",
    "#1. increase the number of outcomes\n",
    "#2. Normalize results\n",
    "\n",
    "import matplotlib.pyplot as plt\n",
    "\n",
    "def from_normalized(normalized, new_mean, new_std):\n",
    "    return [int(0.5+x*new_std + new_mean) for x in normalized_tails]\n",
    "\n",
    "\n",
    "number_of_outcomes=50000\n",
    "outcome_range=100\n",
    "p=0.5\n",
    "outcomes = [generage_outcome(p,outcome_range) for i in range(0,number_of_outcomes)]\n",
    "d = pd.DataFrame(list(map(lambda x: count_outcomes_in_single_event(x), outcomes)), columns=['tails','heads'])\n",
    "\n",
    "tails_mean = d.tails.mean()\n",
    "tails_std = d.tails.std()\n",
    "\n",
    "normalized_tails = [(t-tails_mean)/tails_std for t in d.tails]\n",
    "\n",
    "norm_mean = 1000\n",
    "norm_std=18\n",
    "\n",
    "norm_test = [int(x+0.5) for x in sp.stats.norm.rvs(loc=norm_mean,scale=norm_std,size=number_of_outcomes)]\n",
    "coint_new = from_normalized(normalized_tails,norm_mean,norm_std)\n",
    "\n",
    "print(\"\\\"coin distribution\\\" - mean:{:.3}, variance:{:.3}\".format(np.mean(coint_new), np.var(coint_new)))\n",
    "print(\"normal distribution - mean:{:.3}, variance:{:.3}\".format(np.mean(norm_test), np.var(norm_test)))\n",
    "\n",
    "#CDF test.\n",
    "#what is the probability of having \"num_of_tails_up_to\" or less tails?\n",
    "num_of_tails_up_to = 480\n",
    "\n",
    "#print(\"{:.2%}\".format(sum([coint_new[coint_new == i].shape[0]/d.shape[0] for i in range(0,num_of_tails_up_to+1)])))\n",
    "#print(\"{:.2%}\".format(sp.stats.binom.cdf(num_of_tails_up_to,n=outcome_range, p=p)))\n",
    "\n"
   ]
  },
  {
   "cell_type": "code",
   "execution_count": 328,
   "metadata": {
    "collapsed": false
   },
   "outputs": [
    {
     "name": "stdout",
     "output_type": "stream",
     "text": [
      "Poisson CDF solution 24.87%\n",
      "Poisson numeric solution24.76%\n",
      "\"Coin flip\" numeric solution24.39%\n"
     ]
    }
   ],
   "source": [
    "#Poisson distribution\n",
    "\n",
    "#Albinism is a rare genetic desease that affect one in 20000 people\n",
    "#What is the probability that exactly 2 persons of 1000 randomly peoples will hve albinism.\n",
    "\n",
    "#On average we have 2.7 deseases per year.\n",
    "#What is the probability of 1 or less deceises in current year?\n",
    "poisson_lambda=2.7\n",
    "\n",
    "#solution number 1\n",
    "print(\"Poisson CDF solution {:.2%}\".format(sp.stats.poisson.cdf(1,poisson_lambda)))\n",
    "#solution number 2\n",
    "norm_test = [int(x+0.5) for x in sp.stats.poisson.rvs(mu=poisson_lambda,size=number_of_outcomes)]\n",
    "print(\"Poisson numeric solution{:.2%}\".format(sum(x<=1 for x in norm_test)/number_of_outcomes))\n",
    "\n",
    "#\"coin flip\" solution\n",
    "number_of_outcomes=50000\n",
    "outcome_range=100\n",
    "p=0.027\n",
    "coin_outcomes = [sum(generage_outcome(p,outcome_range)) for i in range(0,number_of_outcomes)]\n",
    "print(\"\\\"Coin flip\\\" numeric solution{:.2%}\".format(sum(x<=1 for x in coin_outcomes)/number_of_outcomes))\n",
    "\n",
    "#Can this be solved with Binominal distribution? Sure, Poisson is a good approximation with lambda = n*p"
   ]
  }
 ],
 "metadata": {
  "kernelspec": {
   "display_name": "Python 3",
   "language": "python",
   "name": "python3"
  },
  "language_info": {
   "codemirror_mode": {
    "name": "ipython",
    "version": 3
   },
   "file_extension": ".py",
   "mimetype": "text/x-python",
   "name": "python",
   "nbconvert_exporter": "python",
   "pygments_lexer": "ipython3",
   "version": "3.4.3"
  }
 },
 "nbformat": 4,
 "nbformat_minor": 0
}
